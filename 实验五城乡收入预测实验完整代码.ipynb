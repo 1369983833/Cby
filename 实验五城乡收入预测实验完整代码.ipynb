{
 "cells": [
  {
   "cell_type": "markdown",
   "id": "722efbf8",
   "metadata": {},
   "source": [
    "# 城乡收入预测与解释性建模实验\n",
    "> 融合机器学习 + 政策模拟 + 社会治理\n"
   ]
  },
  {
   "cell_type": "markdown",
   "id": "3244d311",
   "metadata": {},
   "source": [
    "## 📘 实验背景\n",
    "城乡收入差距长期存在，借助数据建模评估政策效果、预测趋势，是推动“共同富裕”目标的重要手段。"
   ]
  },
  {
   "cell_type": "markdown",
   "id": "c4da8373",
   "metadata": {},
   "source": [
    "## 📊 步骤 1：模拟数据生成"
   ]
  },
  {
   "cell_type": "code",
   "execution_count": null,
   "id": "65ee155c",
   "metadata": {},
   "outputs": [],
   "source": [
    "import pandas as pd\n",
    "import numpy as np\n",
    "np.random.seed(42)\n",
    "\n",
    "cities = [f\"City_{i+1}\" for i in range(100)]\n",
    "regions = np.random.choice(['东部', '中部', '西部'], size=100, p=[0.4, 0.3, 0.3])\n",
    "data = []\n",
    "\n",
    "for city, region in zip(cities, regions):\n",
    "    for year in range(2018, 2023):\n",
    "        gdp_pc = np.random.normal(loc=80000 if region == '东部' else 50000 if region == '中部' else 30000, scale=5000)\n",
    "        net_access = np.clip(np.random.normal(0.9 if region == '东部' else 0.75, 0.1), 0.5, 1.0)\n",
    "        edu_exp = np.random.normal(loc=15000, scale=2000)\n",
    "        med_exp = np.random.normal(loc=10000, scale=1500)\n",
    "        urban_ratio = np.clip(np.random.normal(0.7 if region == '东部' else 0.6, 0.1), 0.3, 0.95)\n",
    "        policy_index = np.random.uniform(0, 1)\n",
    "        infra_score = net_access * 50 + urban_ratio * 30 + np.random.normal(0, 5)\n",
    "        unemp_rate = np.clip(np.random.normal(0.08, 0.03), 0.03, 0.15)\n",
    "        rural_income = gdp_pc * np.random.uniform(0.3, 0.5) + policy_index * 5000 - unemp_rate * 2000\n",
    "        urban_income = gdp_pc * np.random.uniform(0.6, 0.9)\n",
    "        data.append([city, year, region, gdp_pc, net_access, edu_exp, med_exp, urban_ratio, policy_index, infra_score, unemp_rate, rural_income, urban_income])\n",
    "\n",
    "columns = ['city', 'year', 'region', 'gdp_pc', 'net_access', 'edu_exp', 'med_exp', 'urban_ratio', 'policy_index', 'infra_score', 'unemp_rate', 'rural_income', 'urban_income']\n",
    "df = pd.DataFrame(data, columns=columns)\n",
    "df.head()"
   ]
  },
  {
   "cell_type": "markdown",
   "id": "cd67da49",
   "metadata": {},
   "source": [
    "## 🔧 步骤 2：特征工程与标准化"
   ]
  },
  {
   "cell_type": "code",
   "execution_count": null,
   "id": "1e47fd51",
   "metadata": {},
   "outputs": [],
   "source": [
    "from sklearn.model_selection import train_test_split\n",
    "from sklearn.preprocessing import StandardScaler\n",
    "\n",
    "X = df[['gdp_pc', 'net_access', 'edu_exp', 'med_exp', 'urban_ratio', 'policy_index', 'infra_score', 'unemp_rate']]\n",
    "y = df['rural_income']\n",
    "X_train, X_test, y_train, y_test = train_test_split(X, y, test_size=0.2, random_state=0)\n",
    "\n",
    "scaler = StandardScaler()\n",
    "X_train_scaled = scaler.fit_transform(X_train)\n",
    "X_test_scaled = scaler.transform(X_test)"
   ]
  },
  {
   "cell_type": "markdown",
   "id": "4a2e2b86",
   "metadata": {},
   "source": [
    "## 🤖 步骤 3：模型构建与性能评估"
   ]
  },
  {
   "cell_type": "code",
   "execution_count": null,
   "id": "fafb7f0e",
   "metadata": {},
   "outputs": [],
   "source": [
    "from sklearn.linear_model import Ridge\n",
    "from sklearn.ensemble import RandomForestRegressor\n",
    "from xgboost import XGBRegressor\n",
    "from catboost import CatBoostRegressor\n",
    "from sklearn.metrics import mean_squared_error, r2_score\n",
    "import time\n",
    "\n",
    "def train_and_evaluate(model, name):\n",
    "    start = time.time()\n",
    "    model.fit(X_train_scaled, y_train)\n",
    "    y_pred = model.predict(X_test_scaled)\n",
    "    end = time.time()\n",
    "    rmse = np.sqrt(mean_squared_error(y_test, y_pred))\n",
    "    r2 = r2_score(y_test, y_pred)\n",
    "    print(f\"🔎 {name} | RMSE: {rmse:.2f} | R²: {r2:.3f} | 训练时间: {end-start:.2f}s\")\n",
    "\n",
    "train_and_evaluate(Ridge(), \"Ridge回归\")\n",
    "train_and_evaluate(RandomForestRegressor(n_estimators=100), \"随机森林\")\n",
    "train_and_evaluate(XGBRegressor(n_estimators=100, verbosity=0), \"XGBoost\")\n",
    "train_and_evaluate(CatBoostRegressor(verbose=0), \"CatBoost\")"
   ]
  },
  {
   "cell_type": "markdown",
   "id": "d7468992",
   "metadata": {},
   "source": [
    "## 🔍 步骤 4：SHAP 模型解释"
   ]
  },
  {
   "cell_type": "code",
   "execution_count": null,
   "id": "cb17fe5a",
   "metadata": {},
   "outputs": [],
   "source": [
    "import shap\n",
    "model = RandomForestRegressor(n_estimators=100).fit(X_train_scaled, y_train)\n",
    "explainer = shap.Explainer(model.predict, X_test_scaled)\n",
    "shap_values = explainer(X_test_scaled)\n",
    "shap.plots.bar(shap_values)"
   ]
  },
  {
   "cell_type": "markdown",
   "id": "abb24841",
   "metadata": {},
   "source": [
    "## 🌍 步骤 5：区域异质性建模"
   ]
  },
  {
   "cell_type": "code",
   "execution_count": null,
   "id": "d699c135",
   "metadata": {},
   "outputs": [],
   "source": [
    "for region in df['region'].unique():\n",
    "    sub_df = df[df['region'] == region]\n",
    "    X_r = sub_df[X.columns]\n",
    "    y_r = sub_df['rural_income']\n",
    "    X_train_r, X_test_r, y_train_r, y_test_r = train_test_split(X_r, y_r, test_size=0.2)\n",
    "    model_r = RandomForestRegressor()\n",
    "    model_r.fit(X_train_r, y_train_r)\n",
    "    print(f\"📍 {region} 区模型 R²: {model_r.score(X_test_r, y_test_r):.3f}\")"
   ]
  },
  {
   "cell_type": "markdown",
   "id": "6e95aa33",
   "metadata": {},
   "source": [
    "## 💡 步骤 6：政策模拟实验"
   ]
  },
  {
   "cell_type": "code",
   "execution_count": null,
   "id": "70bec690",
   "metadata": {},
   "outputs": [],
   "source": [
    "X_sim = X_test.copy()\n",
    "X_sim['policy_index'] += 0.2  # 加强政策支持\n",
    "X_sim_scaled = scaler.transform(X_sim)\n",
    "\n",
    "model_final = RandomForestRegressor().fit(X_train_scaled, y_train)\n",
    "y_before = model_final.predict(X_test_scaled)\n",
    "y_after = model_final.predict(X_sim_scaled)\n",
    "\n",
    "print(f\"💡 模拟后，农村收入平均提升：{np.mean(y_after - y_before):.2f} 元\")"
   ]
  }
 ],
 "metadata": {},
 "nbformat": 4,
 "nbformat_minor": 5
}
